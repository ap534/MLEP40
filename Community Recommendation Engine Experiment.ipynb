{
 "cells": [
  {
   "cell_type": "markdown",
   "id": "c5e295da-d23e-446b-ab74-c761d42f7cba",
   "metadata": {},
   "source": [
    "# Community Recommendation Engine Experiment\n",
    "\n",
    "\n",
    "#### Deliverables: No code implementation required for this but your assessment of the client’s hypothesis is needed - Experimental Design Report: - Design an experiment to test the impact of communities on movie rentals. - Evaluation Metrics: - Define metrics to assess the success of the community recommendation engine."
   ]
  },
  {
   "cell_type": "markdown",
   "id": "1275a356-111e-4562-a3f2-e1e364679c79",
   "metadata": {},
   "source": [
    "## Hypothesis Formation\n",
    "\n",
    "#### To be able to clearly design the experiment, we need a clear forumulation of the clients hypothesis. It was mentioned that the client wants a \"community recommendation engine because they believe communities can influence users to rent more movies\".\n",
    "\n",
    "#### The hypothesis that we need to test is \"Being recommended and joining relevant communities increases a user's movie rental frequency\"."
   ]
  },
  {
   "cell_type": "markdown",
   "id": "bbcf3981-fe33-4284-8c4b-b5e398b15e0c",
   "metadata": {},
   "source": [
    "## Variable Selection\n",
    "\n",
    "#### To being designing the experiment we need to understnad what the independent variable, dependent variable, and control variables are in our experiment. The independent variable is the community recommendation being given to a user. The dependent variable is the number of movie rentals from a user. The control variables are aspects like the user's rental history, demographics, movie preferences, and prior community engagement levels."
   ]
  },
  {
   "cell_type": "markdown",
   "id": "c2f6c46d-96cf-4911-8bd3-05a10980b96a",
   "metadata": {},
   "source": [
    "## Community Recommendation System Implementation"
   ]
  },
  {
   "cell_type": "markdown",
   "id": "c8ff11a8-691a-43de-9ad7-1c991863b00e",
   "metadata": {},
   "source": [
    "#### To be able to test the experiment, we need a community recommendation engine that we can be confident works well in recommending relevant communities to users. We can use existing data about customers (demographics, purchase history, movie interests etc.) and existing interaction with virtual communities to create machine learning models that recommend new communities to users. We will evaluate the systems offline through metrics like precision and recall to ensure we are confident in the community recommendations, and then the experiment will test the true downsteam impact of our recommendation system."
   ]
  },
  {
   "cell_type": "markdown",
   "id": "3121ab5c-b43f-4e64-94b8-fd8e47c68e0d",
   "metadata": {},
   "source": [
    "## A/B Segmentation"
   ]
  },
  {
   "cell_type": "markdown",
   "id": "c1e0eeee-6d11-4b98-ba94-4523ea32ba18",
   "metadata": {},
   "source": [
    "#### To be able to do our experiment we segment our users into an experiment pool and control pool. The experiment pool will recieve the community recommendation engine recommendations, while the control pool will get the defult experience without the new community recommendation engine giving them community recommendations. We can split the group by 50% during the experiment, stratified by any important demographic variables. We need to be careful dialing up the experiment to ensure we do not dial up functionality that may cause errors at scale. We also need to be rigorous in making sure the appropriate number of users we correctly trigger into the experiment, since discrepancies can lead to incorrect reuslts."
   ]
  },
  {
   "cell_type": "markdown",
   "id": "587c1aa0-dd4a-483d-875f-80c8bfcb5d62",
   "metadata": {},
   "source": [
    "## Data Collection and Experiment Length"
   ]
  },
  {
   "cell_type": "markdown",
   "id": "1ba6a9c2-ac36-425f-af54-be88fcd59c16",
   "metadata": {},
   "source": [
    "#### The experiment will need to run long enough for us to be confident that it gives enough statistical power to come to conclusion regarding our hypothesis. This time period will depend on the power of our experiment, and can last from a few weeks up to several months. We will emit metrics from our recommendation system service, community engagment forums, and movie rental platform to ensure we can accurately report on the results."
   ]
  },
  {
   "cell_type": "markdown",
   "id": "af3da1dc-94c2-4200-9f6d-3a9908d1fb2e",
   "metadata": {},
   "source": [
    "## Evaluation Metrics and Data Analysis"
   ]
  },
  {
   "cell_type": "markdown",
   "id": "a9d2b3e1-f0b2-4890-a71f-8510e4053a16",
   "metadata": {},
   "source": [
    "#### We will need to define a set of evaluation metrics that can be used to determine the impact of our experiment. The primary metric will be the difference in rental frequency between our control and treatment groups. We will also look at secondary metrics such as community engagement, what types of communities were recommended, whether users started exhibiting different behavior like exporing new genres, and both explicit and implicit user satisfaction metrics, like the amount of time spent watching movies or on community forums."
   ]
  },
  {
   "cell_type": "markdown",
   "id": "b02d3bcc-3f6c-4d80-8713-1f7f92cfc93f",
   "metadata": {},
   "source": [
    "#### For our hypothesis validation, we will perform appropriate statical tests to ensure our data is sigificant enough to draw conclusions from. We will perform a t-test to compare metrics the average number of rentals, and calculate a p-value that ensures significance with >= 95% probability. We will also use other techniques when necessary, for example the Mann-Whitney U test if data is not normally distributed."
   ]
  },
  {
   "cell_type": "markdown",
   "id": "4770fe8e-f324-457e-9ce7-ed7cfb938ccf",
   "metadata": {},
   "source": [
    "#### We will also conduct additional regression analyses and data visualization to show the impact of our experiment and relationships between the various metrics that we measure. We will check for any bias and control for the impact of events like users potentially dropping out of the experiment or asking for their data to be deleted in compliance with govenmental regulations."
   ]
  },
  {
   "cell_type": "markdown",
   "id": "f31dc72e-4e74-4046-a82d-cf1c24b46bbe",
   "metadata": {},
   "source": [
    "## Reporting"
   ]
  },
  {
   "cell_type": "markdown",
   "id": "9c9d6654-3d39-481e-820b-d9bb02bd68c1",
   "metadata": {},
   "source": [
    "#### After the experiment is finished, we will draft a report that clearly outlines the hypothesis we were testing, and shows the final significance of our results through various summaries, charts, tables and other clear visualizations. This will help all stakeholders understand the impact of communities and the experiment, and help ensure we deliver a valuable experience to our customers and clients. It will allow us to move forward and potentially dial up the new impact experience to all of the customers."
   ]
  }
 ],
 "metadata": {
  "kernelspec": {
   "display_name": "Python 3 (ipykernel)",
   "language": "python",
   "name": "python3"
  },
  "language_info": {
   "codemirror_mode": {
    "name": "ipython",
    "version": 3
   },
   "file_extension": ".py",
   "mimetype": "text/x-python",
   "name": "python",
   "nbconvert_exporter": "python",
   "pygments_lexer": "ipython3",
   "version": "3.12.1"
  }
 },
 "nbformat": 4,
 "nbformat_minor": 5
}
